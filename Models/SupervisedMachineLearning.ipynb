{
 "cells": [
  {
   "cell_type": "markdown",
   "id": "d85c5fb8",
   "metadata": {},
   "source": [
    "## Linear Regression"
   ]
  },
  {
   "cell_type": "code",
   "execution_count": 32,
   "id": "8257e684",
   "metadata": {},
   "outputs": [],
   "source": [
    "# Import dependencies\n",
    "from sklearn.model_selection import train_test_split\n",
    "from sklearn.preprocessing import StandardScaler\n",
    "from sklearn.metrics import accuracy_score\n",
    "import sklearn as skl\n",
    "import pandas as pd\n",
    "import tensorflow as tf\n",
    "import matplotlib.pyplot as plt\n",
    "from sklearn.neighbors import KNeighborsClassifier\n",
    "from sklearn.model_selection import train_test_split\n",
    "from sklearn.metrics import confusion_matrix, classification_report"
   ]
  },
  {
   "cell_type": "code",
   "execution_count": 17,
   "id": "17ed6067",
   "metadata": {},
   "outputs": [
    {
     "data": {
      "text/html": [
       "<div>\n",
       "<style scoped>\n",
       "    .dataframe tbody tr th:only-of-type {\n",
       "        vertical-align: middle;\n",
       "    }\n",
       "\n",
       "    .dataframe tbody tr th {\n",
       "        vertical-align: top;\n",
       "    }\n",
       "\n",
       "    .dataframe thead th {\n",
       "        text-align: right;\n",
       "    }\n",
       "</style>\n",
       "<table border=\"1\" class=\"dataframe\">\n",
       "  <thead>\n",
       "    <tr style=\"text-align: right;\">\n",
       "      <th></th>\n",
       "      <th>Unnamed: 0</th>\n",
       "      <th>Hg0_pM</th>\n",
       "      <th>HgT_pM</th>\n",
       "      <th>DMHg_pM</th>\n",
       "      <th>MMHg_pM</th>\n",
       "      <th>PRES</th>\n",
       "      <th>TEMP</th>\n",
       "      <th>PSAL</th>\n",
       "      <th>DOXY</th>\n",
       "      <th>NITRAT</th>\n",
       "      <th>NITRIT</th>\n",
       "      <th>SILCAT</th>\n",
       "      <th>PHSPHT</th>\n",
       "    </tr>\n",
       "  </thead>\n",
       "  <tbody>\n",
       "    <tr>\n",
       "      <th>0</th>\n",
       "      <td>0</td>\n",
       "      <td>0.00</td>\n",
       "      <td>0.49</td>\n",
       "      <td>0.01</td>\n",
       "      <td>0.19</td>\n",
       "      <td>20.0</td>\n",
       "      <td>17.630000</td>\n",
       "      <td>35.183333</td>\n",
       "      <td>255.766667</td>\n",
       "      <td>7.495</td>\n",
       "      <td>0.600</td>\n",
       "      <td>2.63</td>\n",
       "      <td>0.965</td>\n",
       "    </tr>\n",
       "    <tr>\n",
       "      <th>1</th>\n",
       "      <td>1</td>\n",
       "      <td>0.17</td>\n",
       "      <td>0.69</td>\n",
       "      <td>0.01</td>\n",
       "      <td>0.00</td>\n",
       "      <td>30.0</td>\n",
       "      <td>17.493333</td>\n",
       "      <td>35.193333</td>\n",
       "      <td>252.666667</td>\n",
       "      <td>7.780</td>\n",
       "      <td>0.620</td>\n",
       "      <td>2.10</td>\n",
       "      <td>1.050</td>\n",
       "    </tr>\n",
       "    <tr>\n",
       "      <th>2</th>\n",
       "      <td>2</td>\n",
       "      <td>0.09</td>\n",
       "      <td>0.51</td>\n",
       "      <td>0.00</td>\n",
       "      <td>0.07</td>\n",
       "      <td>45.0</td>\n",
       "      <td>17.293333</td>\n",
       "      <td>35.190000</td>\n",
       "      <td>247.133333</td>\n",
       "      <td>7.420</td>\n",
       "      <td>0.600</td>\n",
       "      <td>1.27</td>\n",
       "      <td>1.310</td>\n",
       "    </tr>\n",
       "    <tr>\n",
       "      <th>3</th>\n",
       "      <td>3</td>\n",
       "      <td>0.03</td>\n",
       "      <td>0.98</td>\n",
       "      <td>0.03</td>\n",
       "      <td>0.06</td>\n",
       "      <td>80.0</td>\n",
       "      <td>14.186667</td>\n",
       "      <td>34.956667</td>\n",
       "      <td>23.033333</td>\n",
       "      <td>17.740</td>\n",
       "      <td>3.140</td>\n",
       "      <td>21.42</td>\n",
       "      <td>2.635</td>\n",
       "    </tr>\n",
       "    <tr>\n",
       "      <th>4</th>\n",
       "      <td>4</td>\n",
       "      <td>0.07</td>\n",
       "      <td>0.44</td>\n",
       "      <td>0.10</td>\n",
       "      <td>0.09</td>\n",
       "      <td>236.0</td>\n",
       "      <td>12.230000</td>\n",
       "      <td>34.870000</td>\n",
       "      <td>6.266667</td>\n",
       "      <td>14.785</td>\n",
       "      <td>8.955</td>\n",
       "      <td>31.28</td>\n",
       "      <td>2.540</td>\n",
       "    </tr>\n",
       "  </tbody>\n",
       "</table>\n",
       "</div>"
      ],
      "text/plain": [
       "   Unnamed: 0  Hg0_pM  HgT_pM  DMHg_pM  MMHg_pM   PRES       TEMP       PSAL  \\\n",
       "0           0    0.00    0.49     0.01     0.19   20.0  17.630000  35.183333   \n",
       "1           1    0.17    0.69     0.01     0.00   30.0  17.493333  35.193333   \n",
       "2           2    0.09    0.51     0.00     0.07   45.0  17.293333  35.190000   \n",
       "3           3    0.03    0.98     0.03     0.06   80.0  14.186667  34.956667   \n",
       "4           4    0.07    0.44     0.10     0.09  236.0  12.230000  34.870000   \n",
       "\n",
       "         DOXY  NITRAT  NITRIT  SILCAT  PHSPHT  \n",
       "0  255.766667   7.495   0.600    2.63   0.965  \n",
       "1  252.666667   7.780   0.620    2.10   1.050  \n",
       "2  247.133333   7.420   0.600    1.27   1.310  \n",
       "3   23.033333  17.740   3.140   21.42   2.635  \n",
       "4    6.266667  14.785   8.955   31.28   2.540  "
      ]
     },
     "execution_count": 17,
     "metadata": {},
     "output_type": "execute_result"
    }
   ],
   "source": [
    "# Import Hg dataset\n",
    "    # Arctic data removed\n",
    "Hg_D = pd.read_csv('../Data/Hg_D2.csv')\n",
    "Hg_D.head()"
   ]
  },
  {
   "cell_type": "code",
   "execution_count": 18,
   "id": "044a77eb",
   "metadata": {},
   "outputs": [
    {
     "data": {
      "text/html": [
       "<div>\n",
       "<style scoped>\n",
       "    .dataframe tbody tr th:only-of-type {\n",
       "        vertical-align: middle;\n",
       "    }\n",
       "\n",
       "    .dataframe tbody tr th {\n",
       "        vertical-align: top;\n",
       "    }\n",
       "\n",
       "    .dataframe thead th {\n",
       "        text-align: right;\n",
       "    }\n",
       "</style>\n",
       "<table border=\"1\" class=\"dataframe\">\n",
       "  <thead>\n",
       "    <tr style=\"text-align: right;\">\n",
       "      <th></th>\n",
       "      <th>MMHg_pM</th>\n",
       "      <th>PRES</th>\n",
       "      <th>TEMP</th>\n",
       "      <th>PSAL</th>\n",
       "      <th>DOXY</th>\n",
       "      <th>NITRAT</th>\n",
       "    </tr>\n",
       "  </thead>\n",
       "  <tbody>\n",
       "    <tr>\n",
       "      <th>0</th>\n",
       "      <td>0.19</td>\n",
       "      <td>20.0</td>\n",
       "      <td>17.630000</td>\n",
       "      <td>35.183333</td>\n",
       "      <td>255.766667</td>\n",
       "      <td>7.495</td>\n",
       "    </tr>\n",
       "    <tr>\n",
       "      <th>1</th>\n",
       "      <td>0.00</td>\n",
       "      <td>30.0</td>\n",
       "      <td>17.493333</td>\n",
       "      <td>35.193333</td>\n",
       "      <td>252.666667</td>\n",
       "      <td>7.780</td>\n",
       "    </tr>\n",
       "    <tr>\n",
       "      <th>2</th>\n",
       "      <td>0.07</td>\n",
       "      <td>45.0</td>\n",
       "      <td>17.293333</td>\n",
       "      <td>35.190000</td>\n",
       "      <td>247.133333</td>\n",
       "      <td>7.420</td>\n",
       "    </tr>\n",
       "    <tr>\n",
       "      <th>3</th>\n",
       "      <td>0.06</td>\n",
       "      <td>80.0</td>\n",
       "      <td>14.186667</td>\n",
       "      <td>34.956667</td>\n",
       "      <td>23.033333</td>\n",
       "      <td>17.740</td>\n",
       "    </tr>\n",
       "    <tr>\n",
       "      <th>4</th>\n",
       "      <td>0.09</td>\n",
       "      <td>236.0</td>\n",
       "      <td>12.230000</td>\n",
       "      <td>34.870000</td>\n",
       "      <td>6.266667</td>\n",
       "      <td>14.785</td>\n",
       "    </tr>\n",
       "  </tbody>\n",
       "</table>\n",
       "</div>"
      ],
      "text/plain": [
       "   MMHg_pM   PRES       TEMP       PSAL        DOXY  NITRAT\n",
       "0     0.19   20.0  17.630000  35.183333  255.766667   7.495\n",
       "1     0.00   30.0  17.493333  35.193333  252.666667   7.780\n",
       "2     0.07   45.0  17.293333  35.190000  247.133333   7.420\n",
       "3     0.06   80.0  14.186667  34.956667   23.033333  17.740\n",
       "4     0.09  236.0  12.230000  34.870000    6.266667  14.785"
      ]
     },
     "execution_count": 18,
     "metadata": {},
     "output_type": "execute_result"
    }
   ],
   "source": [
    "# Drop Unnamed column\n",
    "Hg_D.drop(columns=['Unnamed: 0', 'Hg0_pM','HgT_pM','DMHg_pM','NITRIT','SILCAT','PHSPHT'], inplace=True)\n",
    "Hg_D.head()"
   ]
  },
  {
   "cell_type": "code",
   "execution_count": 24,
   "id": "7274f08e",
   "metadata": {},
   "outputs": [],
   "source": [
    "Hg_D = Hg_D.dropna()"
   ]
  },
  {
   "cell_type": "code",
   "execution_count": 25,
   "id": "01d2b4d3",
   "metadata": {},
   "outputs": [],
   "source": [
    "# Split our preprocessed data into our features and target arrays\n",
    "X = Hg_D.drop(['MMHg_pM'], axis=1)\n",
    "y = Hg_D['MMHg_pM']\n",
    "\n",
    "# Split the preprocessed data into a training and testing dataset\n",
    "X_train, X_test, y_train, y_test = train_test_split(X, y, random_state=5)"
   ]
  },
  {
   "cell_type": "code",
   "execution_count": 26,
   "id": "0b85a959",
   "metadata": {},
   "outputs": [],
   "source": [
    "# Create scaler instance\n",
    "X_scaler = skl.preprocessing.StandardScaler()\n",
    "\n",
    "# Fit the scaler\n",
    "X_scaler.fit(X_train)\n",
    "\n",
    "# Scale the data\n",
    "X_train_scaled = X_scaler.transform(X_train)\n",
    "X_test_scaled = X_scaler.transform(X_test)"
   ]
  },
  {
   "cell_type": "code",
   "execution_count": 29,
   "id": "ab749e65",
   "metadata": {},
   "outputs": [
    {
     "data": {
      "text/plain": [
       "LinearRegression()"
      ]
     },
     "execution_count": 29,
     "metadata": {},
     "output_type": "execute_result"
    }
   ],
   "source": [
    "# Define the model\n",
    "model = LinearRegression()\n",
    "model.fit(X_train_scaled,y_train)"
   ]
  },
  {
   "cell_type": "code",
   "execution_count": 30,
   "id": "3a2e6a94",
   "metadata": {},
   "outputs": [
    {
     "data": {
      "text/plain": [
       "0.04096692648191458"
      ]
     },
     "execution_count": 30,
     "metadata": {},
     "output_type": "execute_result"
    }
   ],
   "source": [
    "model.score(X_test_scaled,y_test)"
   ]
  },
  {
   "cell_type": "markdown",
   "id": "21b3735b",
   "metadata": {},
   "source": [
    "## KNN"
   ]
  },
  {
   "cell_type": "code",
   "execution_count": 37,
   "id": "c0765421",
   "metadata": {},
   "outputs": [
    {
     "data": {
      "text/html": [
       "<div>\n",
       "<style scoped>\n",
       "    .dataframe tbody tr th:only-of-type {\n",
       "        vertical-align: middle;\n",
       "    }\n",
       "\n",
       "    .dataframe tbody tr th {\n",
       "        vertical-align: top;\n",
       "    }\n",
       "\n",
       "    .dataframe thead th {\n",
       "        text-align: right;\n",
       "    }\n",
       "</style>\n",
       "<table border=\"1\" class=\"dataframe\">\n",
       "  <thead>\n",
       "    <tr style=\"text-align: right;\">\n",
       "      <th></th>\n",
       "      <th>MMHg_pM</th>\n",
       "      <th>PRES</th>\n",
       "      <th>TEMP</th>\n",
       "      <th>PSAL</th>\n",
       "      <th>DOXY</th>\n",
       "      <th>NITRAT</th>\n",
       "    </tr>\n",
       "  </thead>\n",
       "  <tbody>\n",
       "    <tr>\n",
       "      <th>0</th>\n",
       "      <td>0.19</td>\n",
       "      <td>20.0</td>\n",
       "      <td>17.630000</td>\n",
       "      <td>35.183333</td>\n",
       "      <td>255.766667</td>\n",
       "      <td>7.495</td>\n",
       "    </tr>\n",
       "    <tr>\n",
       "      <th>1</th>\n",
       "      <td>0.00</td>\n",
       "      <td>30.0</td>\n",
       "      <td>17.493333</td>\n",
       "      <td>35.193333</td>\n",
       "      <td>252.666667</td>\n",
       "      <td>7.780</td>\n",
       "    </tr>\n",
       "    <tr>\n",
       "      <th>2</th>\n",
       "      <td>0.07</td>\n",
       "      <td>45.0</td>\n",
       "      <td>17.293333</td>\n",
       "      <td>35.190000</td>\n",
       "      <td>247.133333</td>\n",
       "      <td>7.420</td>\n",
       "    </tr>\n",
       "    <tr>\n",
       "      <th>3</th>\n",
       "      <td>0.06</td>\n",
       "      <td>80.0</td>\n",
       "      <td>14.186667</td>\n",
       "      <td>34.956667</td>\n",
       "      <td>23.033333</td>\n",
       "      <td>17.740</td>\n",
       "    </tr>\n",
       "    <tr>\n",
       "      <th>4</th>\n",
       "      <td>0.09</td>\n",
       "      <td>236.0</td>\n",
       "      <td>12.230000</td>\n",
       "      <td>34.870000</td>\n",
       "      <td>6.266667</td>\n",
       "      <td>14.785</td>\n",
       "    </tr>\n",
       "  </tbody>\n",
       "</table>\n",
       "</div>"
      ],
      "text/plain": [
       "   MMHg_pM   PRES       TEMP       PSAL        DOXY  NITRAT\n",
       "0     0.19   20.0  17.630000  35.183333  255.766667   7.495\n",
       "1     0.00   30.0  17.493333  35.193333  252.666667   7.780\n",
       "2     0.07   45.0  17.293333  35.190000  247.133333   7.420\n",
       "3     0.06   80.0  14.186667  34.956667   23.033333  17.740\n",
       "4     0.09  236.0  12.230000  34.870000    6.266667  14.785"
      ]
     },
     "execution_count": 37,
     "metadata": {},
     "output_type": "execute_result"
    }
   ],
   "source": [
    "Hg_D.head()"
   ]
  },
  {
   "cell_type": "code",
   "execution_count": 38,
   "id": "06293327",
   "metadata": {},
   "outputs": [
    {
     "data": {
      "text/html": [
       "<div>\n",
       "<style scoped>\n",
       "    .dataframe tbody tr th:only-of-type {\n",
       "        vertical-align: middle;\n",
       "    }\n",
       "\n",
       "    .dataframe tbody tr th {\n",
       "        vertical-align: top;\n",
       "    }\n",
       "\n",
       "    .dataframe thead th {\n",
       "        text-align: right;\n",
       "    }\n",
       "</style>\n",
       "<table border=\"1\" class=\"dataframe\">\n",
       "  <thead>\n",
       "    <tr style=\"text-align: right;\">\n",
       "      <th></th>\n",
       "      <th>MMHg_pM</th>\n",
       "      <th>PRES</th>\n",
       "      <th>TEMP</th>\n",
       "      <th>PSAL</th>\n",
       "      <th>DOXY</th>\n",
       "      <th>NITRAT</th>\n",
       "      <th>MMHgBins</th>\n",
       "    </tr>\n",
       "  </thead>\n",
       "  <tbody>\n",
       "    <tr>\n",
       "      <th>0</th>\n",
       "      <td>0.19</td>\n",
       "      <td>20.0</td>\n",
       "      <td>17.630000</td>\n",
       "      <td>35.183333</td>\n",
       "      <td>255.766667</td>\n",
       "      <td>7.495</td>\n",
       "      <td>2</td>\n",
       "    </tr>\n",
       "    <tr>\n",
       "      <th>1</th>\n",
       "      <td>0.00</td>\n",
       "      <td>30.0</td>\n",
       "      <td>17.493333</td>\n",
       "      <td>35.193333</td>\n",
       "      <td>252.666667</td>\n",
       "      <td>7.780</td>\n",
       "      <td>1</td>\n",
       "    </tr>\n",
       "    <tr>\n",
       "      <th>2</th>\n",
       "      <td>0.07</td>\n",
       "      <td>45.0</td>\n",
       "      <td>17.293333</td>\n",
       "      <td>35.190000</td>\n",
       "      <td>247.133333</td>\n",
       "      <td>7.420</td>\n",
       "      <td>1</td>\n",
       "    </tr>\n",
       "    <tr>\n",
       "      <th>3</th>\n",
       "      <td>0.06</td>\n",
       "      <td>80.0</td>\n",
       "      <td>14.186667</td>\n",
       "      <td>34.956667</td>\n",
       "      <td>23.033333</td>\n",
       "      <td>17.740</td>\n",
       "      <td>1</td>\n",
       "    </tr>\n",
       "    <tr>\n",
       "      <th>4</th>\n",
       "      <td>0.09</td>\n",
       "      <td>236.0</td>\n",
       "      <td>12.230000</td>\n",
       "      <td>34.870000</td>\n",
       "      <td>6.266667</td>\n",
       "      <td>14.785</td>\n",
       "      <td>1</td>\n",
       "    </tr>\n",
       "  </tbody>\n",
       "</table>\n",
       "</div>"
      ],
      "text/plain": [
       "   MMHg_pM   PRES       TEMP       PSAL        DOXY  NITRAT MMHgBins\n",
       "0     0.19   20.0  17.630000  35.183333  255.766667   7.495        2\n",
       "1     0.00   30.0  17.493333  35.193333  252.666667   7.780        1\n",
       "2     0.07   45.0  17.293333  35.190000  247.133333   7.420        1\n",
       "3     0.06   80.0  14.186667  34.956667   23.033333  17.740        1\n",
       "4     0.09  236.0  12.230000  34.870000    6.266667  14.785        1"
      ]
     },
     "execution_count": 38,
     "metadata": {},
     "output_type": "execute_result"
    }
   ],
   "source": [
    "# Bin MMHg data\n",
    "bins = [0,0.1,0.2,0.3,0.4,0.5,0.6,0.7,0.8,0.9,1.0]\n",
    "group_names = [1,2,3,4,5,6,7,8,9,10]\n",
    "Hg_D['MMHgBins']=pd.cut(Hg_D['MMHg_pM'],bins,labels=group_names,include_lowest=True)\n",
    "Hg_D.head()"
   ]
  },
  {
   "cell_type": "code",
   "execution_count": 39,
   "id": "4f819a17",
   "metadata": {},
   "outputs": [
    {
     "data": {
      "text/html": [
       "<div>\n",
       "<style scoped>\n",
       "    .dataframe tbody tr th:only-of-type {\n",
       "        vertical-align: middle;\n",
       "    }\n",
       "\n",
       "    .dataframe tbody tr th {\n",
       "        vertical-align: top;\n",
       "    }\n",
       "\n",
       "    .dataframe thead th {\n",
       "        text-align: right;\n",
       "    }\n",
       "</style>\n",
       "<table border=\"1\" class=\"dataframe\">\n",
       "  <thead>\n",
       "    <tr style=\"text-align: right;\">\n",
       "      <th></th>\n",
       "      <th>PRES</th>\n",
       "      <th>TEMP</th>\n",
       "      <th>PSAL</th>\n",
       "      <th>DOXY</th>\n",
       "      <th>NITRAT</th>\n",
       "      <th>MMHgBins</th>\n",
       "    </tr>\n",
       "  </thead>\n",
       "  <tbody>\n",
       "    <tr>\n",
       "      <th>0</th>\n",
       "      <td>20.0</td>\n",
       "      <td>17.630000</td>\n",
       "      <td>35.183333</td>\n",
       "      <td>255.766667</td>\n",
       "      <td>7.495</td>\n",
       "      <td>2</td>\n",
       "    </tr>\n",
       "    <tr>\n",
       "      <th>1</th>\n",
       "      <td>30.0</td>\n",
       "      <td>17.493333</td>\n",
       "      <td>35.193333</td>\n",
       "      <td>252.666667</td>\n",
       "      <td>7.780</td>\n",
       "      <td>1</td>\n",
       "    </tr>\n",
       "    <tr>\n",
       "      <th>2</th>\n",
       "      <td>45.0</td>\n",
       "      <td>17.293333</td>\n",
       "      <td>35.190000</td>\n",
       "      <td>247.133333</td>\n",
       "      <td>7.420</td>\n",
       "      <td>1</td>\n",
       "    </tr>\n",
       "    <tr>\n",
       "      <th>3</th>\n",
       "      <td>80.0</td>\n",
       "      <td>14.186667</td>\n",
       "      <td>34.956667</td>\n",
       "      <td>23.033333</td>\n",
       "      <td>17.740</td>\n",
       "      <td>1</td>\n",
       "    </tr>\n",
       "    <tr>\n",
       "      <th>4</th>\n",
       "      <td>236.0</td>\n",
       "      <td>12.230000</td>\n",
       "      <td>34.870000</td>\n",
       "      <td>6.266667</td>\n",
       "      <td>14.785</td>\n",
       "      <td>1</td>\n",
       "    </tr>\n",
       "  </tbody>\n",
       "</table>\n",
       "</div>"
      ],
      "text/plain": [
       "    PRES       TEMP       PSAL        DOXY  NITRAT MMHgBins\n",
       "0   20.0  17.630000  35.183333  255.766667   7.495        2\n",
       "1   30.0  17.493333  35.193333  252.666667   7.780        1\n",
       "2   45.0  17.293333  35.190000  247.133333   7.420        1\n",
       "3   80.0  14.186667  34.956667   23.033333  17.740        1\n",
       "4  236.0  12.230000  34.870000    6.266667  14.785        1"
      ]
     },
     "execution_count": 39,
     "metadata": {},
     "output_type": "execute_result"
    }
   ],
   "source": [
    "# Drop Unnamed column\n",
    "Hg_D.drop(columns=['MMHg_pM'], inplace=True)\n",
    "Hg_D.head()"
   ]
  },
  {
   "cell_type": "code",
   "execution_count": 41,
   "id": "acdc06d2",
   "metadata": {},
   "outputs": [],
   "source": [
    "# Split our preprocessed data into our features and target arrays\n",
    "X = Hg_D.drop(['MMHgBins'], axis=1)\n",
    "y = Hg_D['MMHgBins']\n",
    "\n",
    "# Split the preprocessed data into a training and testing dataset\n",
    "X_train, X_test, y_train, y_test = train_test_split(X, y, random_state=5)"
   ]
  },
  {
   "cell_type": "code",
   "execution_count": 42,
   "id": "90e3eb9d",
   "metadata": {},
   "outputs": [],
   "source": [
    "# Create scaler instance\n",
    "X_scaler = skl.preprocessing.StandardScaler()\n",
    "\n",
    "# Fit the scaler\n",
    "X_scaler.fit(X_train)\n",
    "\n",
    "# Scale the data\n",
    "X_train_scaled = X_scaler.transform(X_train)\n",
    "X_test_scaled = X_scaler.transform(X_test)"
   ]
  },
  {
   "cell_type": "code",
   "execution_count": 43,
   "id": "c572f471",
   "metadata": {},
   "outputs": [
    {
     "name": "stdout",
     "output_type": "stream",
     "text": [
      "k: 1, Train/Test Score: 1.000/0.883\n",
      "k: 3, Train/Test Score: 0.877/0.703\n",
      "k: 5, Train/Test Score: 0.832/0.703\n",
      "k: 7, Train/Test Score: 0.808/0.703\n",
      "k: 9, Train/Test Score: 0.822/0.703\n",
      "k: 11, Train/Test Score: 0.793/0.711\n",
      "k: 13, Train/Test Score: 0.793/0.711\n",
      "k: 15, Train/Test Score: 0.782/0.727\n",
      "k: 17, Train/Test Score: 0.777/0.719\n",
      "k: 19, Train/Test Score: 0.774/0.703\n"
     ]
    },
    {
     "data": {
      "image/png": "[encoded data removed]",
      "text/plain": [
       "<Figure size 432x288 with 1 Axes>"
      ]
     },
     "metadata": {
      "needs_background": "light"
     },
     "output_type": "display_data"
    }
   ],
   "source": [
    "# Loop through different k values to find which has the highest accuracy.\n",
    "# Note: We use only odd numbers because we don't want any ties.\n",
    "train_scores = []\n",
    "test_scores = []\n",
    "for k in range(1, 20, 2):\n",
    "    knn = KNeighborsClassifier(n_neighbors=k)\n",
    "    knn.fit(X_train_scaled, y_train)\n",
    "    train_score = knn.score(X_train_scaled, y_train)\n",
    "    test_score = knn.score(X_test_scaled, y_test)\n",
    "    train_scores.append(train_score)\n",
    "    test_scores.append(test_score)\n",
    "    print(f\"k: {k}, Train/Test Score: {train_score:.3f}/{test_score:.3f}\")\n",
    "    \n",
    "    \n",
    "plt.plot(range(1, 20, 2), train_scores, marker='o')\n",
    "plt.plot(range(1, 20, 2), test_scores, marker=\"x\")\n",
    "plt.xlabel(\"k neighbors\")\n",
    "plt.ylabel(\"Testing accuracy score\")\n",
    "plt.show()"
   ]
  },
  {
   "cell_type": "code",
   "execution_count": 44,
   "id": "82991f14",
   "metadata": {},
   "outputs": [
    {
     "name": "stdout",
     "output_type": "stream",
     "text": [
      "k=13 Test Acc: 0.711\n"
     ]
    }
   ],
   "source": [
    "# Note that k: 11 seems to be the best choice for this dataset\n",
    "knn = KNeighborsClassifier(n_neighbors=11)\n",
    "knn.fit(X_train_scaled, y_train)\n",
    "print('k=13 Test Acc: %.3f' % knn.score(X_test_scaled, y_test))"
   ]
  },
  {
   "cell_type": "code",
   "execution_count": 45,
   "id": "25e4e40c",
   "metadata": {},
   "outputs": [],
   "source": [
    "y_true = y_test\n",
    "y_pred = knn.predict(X_test_scaled)"
   ]
  },
  {
   "cell_type": "code",
   "execution_count": 46,
   "id": "44dcc934",
   "metadata": {},
   "outputs": [
    {
     "data": {
      "text/plain": [
       "array([[89,  2,  0,  0,  0],\n",
       "       [24,  2,  0,  0,  0],\n",
       "       [ 6,  2,  0,  0,  0],\n",
       "       [ 2,  0,  0,  0,  0],\n",
       "       [ 1,  0,  0,  0,  0]], dtype=int64)"
      ]
     },
     "execution_count": 46,
     "metadata": {},
     "output_type": "execute_result"
    }
   ],
   "source": [
    " confusion_matrix(y_true, y_pred)"
   ]
  },
  {
   "cell_type": "code",
   "execution_count": 47,
   "id": "d731e0c6",
   "metadata": {},
   "outputs": [
    {
     "name": "stdout",
     "output_type": "stream",
     "text": [
      "              precision    recall  f1-score   support\n",
      "\n",
      "           1       0.73      0.98      0.84        91\n",
      "           2       0.33      0.08      0.12        26\n",
      "           3       0.00      0.00      0.00         8\n",
      "           4       0.00      0.00      0.00         2\n",
      "           5       0.00      0.00      0.00         1\n",
      "\n",
      "    accuracy                           0.71       128\n",
      "   macro avg       0.21      0.21      0.19       128\n",
      "weighted avg       0.59      0.71      0.62       128\n",
      "\n"
     ]
    },
    {
     "name": "stderr",
     "output_type": "stream",
     "text": [
      "C:\\Users\\Katli\\.conda\\envs\\venv\\lib\\site-packages\\sklearn\\metrics\\_classification.py:1248: UndefinedMetricWarning: Precision and F-score are ill-defined and being set to 0.0 in labels with no predicted samples. Use `zero_division` parameter to control this behavior.\n",
      "  _warn_prf(average, modifier, msg_start, len(result))\n",
      "C:\\Users\\Katli\\.conda\\envs\\venv\\lib\\site-packages\\sklearn\\metrics\\_classification.py:1248: UndefinedMetricWarning: Precision and F-score are ill-defined and being set to 0.0 in labels with no predicted samples. Use `zero_division` parameter to control this behavior.\n",
      "  _warn_prf(average, modifier, msg_start, len(result))\n",
      "C:\\Users\\Katli\\.conda\\envs\\venv\\lib\\site-packages\\sklearn\\metrics\\_classification.py:1248: UndefinedMetricWarning: Precision and F-score are ill-defined and being set to 0.0 in labels with no predicted samples. Use `zero_division` parameter to control this behavior.\n",
      "  _warn_prf(average, modifier, msg_start, len(result))\n"
     ]
    }
   ],
   "source": [
    " print(classification_report(y_true, y_pred))"
   ]
  }
 ],
 "metadata": {
  "kernelspec": {
   "display_name": "venv",
   "language": "python",
   "name": "venv"
  },
  "language_info": {
   "codemirror_mode": {
    "name": "ipython",
    "version": 3
   },
   "file_extension": ".py",
   "mimetype": "text/x-python",
   "name": "python",
   "nbconvert_exporter": "python",
   "pygments_lexer": "ipython3",
   "version": "3.6.10"
  }
 },
 "nbformat": 4,
 "nbformat_minor": 5
}
