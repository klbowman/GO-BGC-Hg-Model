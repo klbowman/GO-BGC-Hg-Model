{
 "cells": [
  {
   "cell_type": "code",
   "execution_count": 1,
   "id": "f62ad7a2",
   "metadata": {},
   "outputs": [],
   "source": [
    "# Import dependencies\n",
    "from sklearn.model_selection import train_test_split\n",
    "from sklearn.preprocessing import StandardScaler\n",
    "from sklearn.metrics import accuracy_score\n",
    "import sklearn as skl\n",
    "import pandas as pd\n",
    "import tensorflow as tf"
   ]
  },
  {
   "cell_type": "code",
   "execution_count": 45,
   "id": "8979da07",
   "metadata": {},
   "outputs": [
    {
     "data": {
      "text/html": [
       "<div>\n",
       "<style scoped>\n",
       "    .dataframe tbody tr th:only-of-type {\n",
       "        vertical-align: middle;\n",
       "    }\n",
       "\n",
       "    .dataframe tbody tr th {\n",
       "        vertical-align: top;\n",
       "    }\n",
       "\n",
       "    .dataframe thead th {\n",
       "        text-align: right;\n",
       "    }\n",
       "</style>\n",
       "<table border=\"1\" class=\"dataframe\">\n",
       "  <thead>\n",
       "    <tr style=\"text-align: right;\">\n",
       "      <th></th>\n",
       "      <th>Unnamed: 0</th>\n",
       "      <th>Hg0_pM</th>\n",
       "      <th>HgT_pM</th>\n",
       "      <th>DMHg_pM</th>\n",
       "      <th>MMHg_pM</th>\n",
       "      <th>PRES</th>\n",
       "      <th>TEMP</th>\n",
       "      <th>PSAL</th>\n",
       "      <th>DOXY</th>\n",
       "      <th>NITRAT</th>\n",
       "      <th>NITRIT</th>\n",
       "      <th>SILCAT</th>\n",
       "      <th>PHSPHT</th>\n",
       "    </tr>\n",
       "  </thead>\n",
       "  <tbody>\n",
       "    <tr>\n",
       "      <th>0</th>\n",
       "      <td>0</td>\n",
       "      <td>0.00</td>\n",
       "      <td>0.49</td>\n",
       "      <td>0.01</td>\n",
       "      <td>0.19</td>\n",
       "      <td>20.0</td>\n",
       "      <td>17.630000</td>\n",
       "      <td>35.183333</td>\n",
       "      <td>255.766667</td>\n",
       "      <td>7.495</td>\n",
       "      <td>0.600</td>\n",
       "      <td>2.63</td>\n",
       "      <td>0.965</td>\n",
       "    </tr>\n",
       "    <tr>\n",
       "      <th>1</th>\n",
       "      <td>1</td>\n",
       "      <td>0.17</td>\n",
       "      <td>0.69</td>\n",
       "      <td>0.01</td>\n",
       "      <td>0.00</td>\n",
       "      <td>30.0</td>\n",
       "      <td>17.493333</td>\n",
       "      <td>35.193333</td>\n",
       "      <td>252.666667</td>\n",
       "      <td>7.780</td>\n",
       "      <td>0.620</td>\n",
       "      <td>2.10</td>\n",
       "      <td>1.050</td>\n",
       "    </tr>\n",
       "    <tr>\n",
       "      <th>2</th>\n",
       "      <td>2</td>\n",
       "      <td>0.09</td>\n",
       "      <td>0.51</td>\n",
       "      <td>0.00</td>\n",
       "      <td>0.07</td>\n",
       "      <td>45.0</td>\n",
       "      <td>17.293333</td>\n",
       "      <td>35.190000</td>\n",
       "      <td>247.133333</td>\n",
       "      <td>7.420</td>\n",
       "      <td>0.600</td>\n",
       "      <td>1.27</td>\n",
       "      <td>1.310</td>\n",
       "    </tr>\n",
       "    <tr>\n",
       "      <th>3</th>\n",
       "      <td>3</td>\n",
       "      <td>0.03</td>\n",
       "      <td>0.98</td>\n",
       "      <td>0.03</td>\n",
       "      <td>0.06</td>\n",
       "      <td>80.0</td>\n",
       "      <td>14.186667</td>\n",
       "      <td>34.956667</td>\n",
       "      <td>23.033333</td>\n",
       "      <td>17.740</td>\n",
       "      <td>3.140</td>\n",
       "      <td>21.42</td>\n",
       "      <td>2.635</td>\n",
       "    </tr>\n",
       "    <tr>\n",
       "      <th>4</th>\n",
       "      <td>4</td>\n",
       "      <td>0.07</td>\n",
       "      <td>0.44</td>\n",
       "      <td>0.10</td>\n",
       "      <td>0.09</td>\n",
       "      <td>236.0</td>\n",
       "      <td>12.230000</td>\n",
       "      <td>34.870000</td>\n",
       "      <td>6.266667</td>\n",
       "      <td>14.785</td>\n",
       "      <td>8.955</td>\n",
       "      <td>31.28</td>\n",
       "      <td>2.540</td>\n",
       "    </tr>\n",
       "  </tbody>\n",
       "</table>\n",
       "</div>"
      ],
      "text/plain": [
       "   Unnamed: 0  Hg0_pM  HgT_pM  DMHg_pM  MMHg_pM   PRES       TEMP       PSAL  \\\n",
       "0           0    0.00    0.49     0.01     0.19   20.0  17.630000  35.183333   \n",
       "1           1    0.17    0.69     0.01     0.00   30.0  17.493333  35.193333   \n",
       "2           2    0.09    0.51     0.00     0.07   45.0  17.293333  35.190000   \n",
       "3           3    0.03    0.98     0.03     0.06   80.0  14.186667  34.956667   \n",
       "4           4    0.07    0.44     0.10     0.09  236.0  12.230000  34.870000   \n",
       "\n",
       "         DOXY  NITRAT  NITRIT  SILCAT  PHSPHT  \n",
       "0  255.766667   7.495   0.600    2.63   0.965  \n",
       "1  252.666667   7.780   0.620    2.10   1.050  \n",
       "2  247.133333   7.420   0.600    1.27   1.310  \n",
       "3   23.033333  17.740   3.140   21.42   2.635  \n",
       "4    6.266667  14.785   8.955   31.28   2.540  "
      ]
     },
     "execution_count": 45,
     "metadata": {},
     "output_type": "execute_result"
    }
   ],
   "source": [
    "# Import Hg dataset\n",
    "Hg_D = pd.read_csv('../Data/Hg_D2.csv')\n",
    "Hg_D.head()"
   ]
  },
  {
   "cell_type": "code",
   "execution_count": 46,
   "id": "e01e0c3b",
   "metadata": {},
   "outputs": [
    {
     "data": {
      "text/html": [
       "<div>\n",
       "<style scoped>\n",
       "    .dataframe tbody tr th:only-of-type {\n",
       "        vertical-align: middle;\n",
       "    }\n",
       "\n",
       "    .dataframe tbody tr th {\n",
       "        vertical-align: top;\n",
       "    }\n",
       "\n",
       "    .dataframe thead th {\n",
       "        text-align: right;\n",
       "    }\n",
       "</style>\n",
       "<table border=\"1\" class=\"dataframe\">\n",
       "  <thead>\n",
       "    <tr style=\"text-align: right;\">\n",
       "      <th></th>\n",
       "      <th>MMHg_pM</th>\n",
       "      <th>PRES</th>\n",
       "      <th>TEMP</th>\n",
       "      <th>PSAL</th>\n",
       "      <th>DOXY</th>\n",
       "      <th>NITRAT</th>\n",
       "    </tr>\n",
       "  </thead>\n",
       "  <tbody>\n",
       "    <tr>\n",
       "      <th>0</th>\n",
       "      <td>0.19</td>\n",
       "      <td>20.0</td>\n",
       "      <td>17.630000</td>\n",
       "      <td>35.183333</td>\n",
       "      <td>255.766667</td>\n",
       "      <td>7.495</td>\n",
       "    </tr>\n",
       "    <tr>\n",
       "      <th>1</th>\n",
       "      <td>0.00</td>\n",
       "      <td>30.0</td>\n",
       "      <td>17.493333</td>\n",
       "      <td>35.193333</td>\n",
       "      <td>252.666667</td>\n",
       "      <td>7.780</td>\n",
       "    </tr>\n",
       "    <tr>\n",
       "      <th>2</th>\n",
       "      <td>0.07</td>\n",
       "      <td>45.0</td>\n",
       "      <td>17.293333</td>\n",
       "      <td>35.190000</td>\n",
       "      <td>247.133333</td>\n",
       "      <td>7.420</td>\n",
       "    </tr>\n",
       "    <tr>\n",
       "      <th>3</th>\n",
       "      <td>0.06</td>\n",
       "      <td>80.0</td>\n",
       "      <td>14.186667</td>\n",
       "      <td>34.956667</td>\n",
       "      <td>23.033333</td>\n",
       "      <td>17.740</td>\n",
       "    </tr>\n",
       "    <tr>\n",
       "      <th>4</th>\n",
       "      <td>0.09</td>\n",
       "      <td>236.0</td>\n",
       "      <td>12.230000</td>\n",
       "      <td>34.870000</td>\n",
       "      <td>6.266667</td>\n",
       "      <td>14.785</td>\n",
       "    </tr>\n",
       "  </tbody>\n",
       "</table>\n",
       "</div>"
      ],
      "text/plain": [
       "   MMHg_pM   PRES       TEMP       PSAL        DOXY  NITRAT\n",
       "0     0.19   20.0  17.630000  35.183333  255.766667   7.495\n",
       "1     0.00   30.0  17.493333  35.193333  252.666667   7.780\n",
       "2     0.07   45.0  17.293333  35.190000  247.133333   7.420\n",
       "3     0.06   80.0  14.186667  34.956667   23.033333  17.740\n",
       "4     0.09  236.0  12.230000  34.870000    6.266667  14.785"
      ]
     },
     "execution_count": 46,
     "metadata": {},
     "output_type": "execute_result"
    }
   ],
   "source": [
    "# Drop Unnamed column\n",
    "Hg_D.drop(columns=['Unnamed: 0','Hg0_pM','HgT_pM','DMHg_pM','NITRIT','SILCAT','PHSPHT'], inplace=True)\n",
    "Hg_D.head()"
   ]
  },
  {
   "cell_type": "code",
   "execution_count": 47,
   "id": "db9abfac",
   "metadata": {},
   "outputs": [],
   "source": [
    "Hg_D = Hg_D.dropna()"
   ]
  },
  {
   "cell_type": "code",
   "execution_count": 48,
   "id": "da762e52",
   "metadata": {},
   "outputs": [
    {
     "data": {
      "text/plain": [
       "(509, 6)"
      ]
     },
     "execution_count": 48,
     "metadata": {},
     "output_type": "execute_result"
    }
   ],
   "source": [
    "Hg_D.shape"
   ]
  },
  {
   "cell_type": "code",
   "execution_count": 49,
   "id": "50a21d11",
   "metadata": {},
   "outputs": [],
   "source": [
    "# Split our preprocessed data into our features and target arrays\n",
    "X = Hg_D.drop(['MMHg_pM'], axis=1)\n",
    "y = Hg_D['MMHg_pM']\n",
    "\n",
    "# Split the preprocessed data into a training and testing dataset\n",
    "X_train, X_test, y_train, y_test = train_test_split(X, y, random_state=5)"
   ]
  },
  {
   "cell_type": "code",
   "execution_count": 50,
   "id": "fd9d8481",
   "metadata": {},
   "outputs": [],
   "source": [
    "# Create scaler instance\n",
    "X_scaler = skl.preprocessing.StandardScaler()\n",
    "\n",
    "# Fit the scaler\n",
    "X_scaler.fit(X_train)\n",
    "\n",
    "# Scale the data\n",
    "X_train_scaled = X_scaler.transform(X_train)\n",
    "X_test_scaled = X_scaler.transform(X_test)"
   ]
  },
  {
   "cell_type": "code",
   "execution_count": 51,
   "id": "4a1dc15d",
   "metadata": {},
   "outputs": [],
   "source": [
    "# Create a method that creates a new Sequential model with hyperparameter options\n",
    "def create_model(hp):\n",
    "    nn_model = tf.keras.models.Sequential()\n",
    "\n",
    "    # Allow kerastuner to decide which activation function to use in hidden layers\n",
    "    activation = hp.Choice('activation',['relu','tanh','sigmoid'])\n",
    "    \n",
    "    # Allow kerastuner to decide number of neurons in first layer\n",
    "    nn_model.add(tf.keras.layers.Dense(units=hp.Int('first_units',\n",
    "        min_value=1,\n",
    "        max_value=10,\n",
    "        step=2), activation=activation, input_dim=5))\n",
    "\n",
    "    # Allow kerastuner to decide number of hidden layers and neurons in hidden layers\n",
    "    for i in range(hp.Int('num_layers', 1, 6)):\n",
    "        nn_model.add(tf.keras.layers.Dense(units=hp.Int('units_' + str(i),\n",
    "            min_value=1,\n",
    "            max_value=10,\n",
    "            step=2),\n",
    "            activation=activation))\n",
    "    \n",
    "    nn_model.add(tf.keras.layers.Dense(units=1, activation=\"relu\"))\n",
    "\n",
    "    # Compile the model\n",
    "    nn_model.compile(loss=\"binary_crossentropy\", optimizer='adam', metrics=[\"accuracy\"])\n",
    "    \n",
    "    return nn_model"
   ]
  },
  {
   "cell_type": "code",
   "execution_count": 52,
   "id": "44ab1bff",
   "metadata": {},
   "outputs": [
    {
     "name": "stdout",
     "output_type": "stream",
     "text": [
      "INFO:tensorflow:Reloading Oracle from existing project .\\untitled_project\\oracle.json\n",
      "INFO:tensorflow:Reloading Tuner from .\\untitled_project\\tuner0.json\n"
     ]
    }
   ],
   "source": [
    "# Import the kerastuner library\n",
    "import kerastuner as kt\n",
    "\n",
    "tuner = kt.Hyperband(\n",
    "    create_model,\n",
    "    objective=\"val_accuracy\",\n",
    "    max_epochs=20,\n",
    "    hyperband_iterations=2)"
   ]
  },
  {
   "cell_type": "code",
   "execution_count": 53,
   "id": "6daf13bb",
   "metadata": {},
   "outputs": [
    {
     "name": "stdout",
     "output_type": "stream",
     "text": [
      "INFO:tensorflow:Oracle triggered exit\n"
     ]
    }
   ],
   "source": [
    "# Run the kerastuner search for best hyperparameters\n",
    "tuner.search(X_train_scaled,y_train,epochs=20,validation_data=(X_test_scaled,y_test))"
   ]
  },
  {
   "cell_type": "code",
   "execution_count": 54,
   "id": "bd42e639",
   "metadata": {},
   "outputs": [
    {
     "data": {
      "text/plain": [
       "{'activation': 'sigmoid',\n",
       " 'first_units': 3,\n",
       " 'num_layers': 5,\n",
       " 'units_0': 1,\n",
       " 'units_1': 7,\n",
       " 'units_2': 3,\n",
       " 'units_3': 9,\n",
       " 'units_4': 9,\n",
       " 'tuner/epochs': 3,\n",
       " 'tuner/initial_epoch': 0,\n",
       " 'tuner/bracket': 2,\n",
       " 'tuner/round': 0}"
      ]
     },
     "execution_count": 54,
     "metadata": {},
     "output_type": "execute_result"
    }
   ],
   "source": [
    "# Get best model hyperparameters\n",
    "best_hyper = tuner.get_best_hyperparameters(1)[0]\n",
    "best_hyper.values"
   ]
  },
  {
   "cell_type": "code",
   "execution_count": 55,
   "id": "8441d968",
   "metadata": {},
   "outputs": [
    {
     "name": "stdout",
     "output_type": "stream",
     "text": [
      "WARNING:tensorflow:Unresolved object in checkpoint: (root).optimizer.iter\n",
      "WARNING:tensorflow:Unresolved object in checkpoint: (root).optimizer.beta_1\n",
      "WARNING:tensorflow:Unresolved object in checkpoint: (root).optimizer.beta_2\n",
      "WARNING:tensorflow:Unresolved object in checkpoint: (root).optimizer.decay\n",
      "WARNING:tensorflow:Unresolved object in checkpoint: (root).optimizer.learning_rate\n",
      "WARNING:tensorflow:A checkpoint was restored (e.g. tf.train.Checkpoint.restore or tf.keras.Model.load_weights) but not all checkpointed values were used. See above for specific issues. Use expect_partial() on the load status object, e.g. tf.train.Checkpoint.restore(...).expect_partial(), to silence these warnings, or use assert_consumed() to make the check explicit. See https://www.tensorflow.org/guide/checkpoint#loading_mechanics for details.\n",
      "4/4 - 0s - loss: 0.2856 - accuracy: 0.0781\n",
      "Loss: 0.285562127828598, Accuracy: 0.078125\n"
     ]
    }
   ],
   "source": [
    "# Evaluate best model against full test data\n",
    "best_model = tuner.get_best_models(1)[0]\n",
    "model_loss, model_accuracy = best_model.evaluate(X_test_scaled,y_test,verbose=2)\n",
    "print(f\"Loss: {model_loss}, Accuracy: {model_accuracy}\")"
   ]
  },
  {
   "cell_type": "code",
   "execution_count": null,
   "id": "8d652912",
   "metadata": {},
   "outputs": [],
   "source": []
  }
 ],
 "metadata": {
  "kernelspec": {
   "display_name": "venv",
   "language": "python",
   "name": "venv"
  },
  "language_info": {
   "codemirror_mode": {
    "name": "ipython",
    "version": 3
   },
   "file_extension": ".py",
   "mimetype": "text/x-python",
   "name": "python",
   "nbconvert_exporter": "python",
   "pygments_lexer": "ipython3",
   "version": "3.6.10"
  }
 },
 "nbformat": 4,
 "nbformat_minor": 5
}
