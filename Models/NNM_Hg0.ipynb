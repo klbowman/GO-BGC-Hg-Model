{
 "cells": [
  {
   "cell_type": "code",
   "execution_count": 1,
   "id": "e5238624",
   "metadata": {},
   "outputs": [],
   "source": [
    "# Import dependencies\n",
    "from sklearn.model_selection import train_test_split\n",
    "from sklearn.preprocessing import StandardScaler\n",
    "from sklearn.metrics import accuracy_score\n",
    "import sklearn as skl\n",
    "import pandas as pd\n",
    "import tensorflow as tf"
   ]
  },
  {
   "cell_type": "code",
   "execution_count": 2,
   "id": "70489b25",
   "metadata": {},
   "outputs": [
    {
     "data": {
      "text/html": [
       "<div>\n",
       "<style scoped>\n",
       "    .dataframe tbody tr th:only-of-type {\n",
       "        vertical-align: middle;\n",
       "    }\n",
       "\n",
       "    .dataframe tbody tr th {\n",
       "        vertical-align: top;\n",
       "    }\n",
       "\n",
       "    .dataframe thead th {\n",
       "        text-align: right;\n",
       "    }\n",
       "</style>\n",
       "<table border=\"1\" class=\"dataframe\">\n",
       "  <thead>\n",
       "    <tr style=\"text-align: right;\">\n",
       "      <th></th>\n",
       "      <th>Unnamed: 0</th>\n",
       "      <th>Hg0_pM</th>\n",
       "      <th>HgT_pM</th>\n",
       "      <th>DMHg_pM</th>\n",
       "      <th>MMHg_pM</th>\n",
       "      <th>PRES</th>\n",
       "      <th>TEMP</th>\n",
       "      <th>PSAL</th>\n",
       "      <th>DOXY</th>\n",
       "      <th>NITRAT</th>\n",
       "      <th>NITRIT</th>\n",
       "      <th>SILCAT</th>\n",
       "      <th>PHSPHT</th>\n",
       "    </tr>\n",
       "  </thead>\n",
       "  <tbody>\n",
       "    <tr>\n",
       "      <th>0</th>\n",
       "      <td>0</td>\n",
       "      <td>0.16</td>\n",
       "      <td>1.39</td>\n",
       "      <td>NaN</td>\n",
       "      <td>0.012</td>\n",
       "      <td>20.2</td>\n",
       "      <td>-0.7891</td>\n",
       "      <td>29.4120</td>\n",
       "      <td>433.4</td>\n",
       "      <td>0.33</td>\n",
       "      <td>0.00</td>\n",
       "      <td>3.53</td>\n",
       "      <td>0.70</td>\n",
       "    </tr>\n",
       "    <tr>\n",
       "      <th>1</th>\n",
       "      <td>1</td>\n",
       "      <td>0.16</td>\n",
       "      <td>1.39</td>\n",
       "      <td>NaN</td>\n",
       "      <td>0.012</td>\n",
       "      <td>20.2</td>\n",
       "      <td>-0.7891</td>\n",
       "      <td>29.4120</td>\n",
       "      <td>433.4</td>\n",
       "      <td>0.01</td>\n",
       "      <td>0.00</td>\n",
       "      <td>2.06</td>\n",
       "      <td>0.63</td>\n",
       "    </tr>\n",
       "    <tr>\n",
       "      <th>2</th>\n",
       "      <td>2</td>\n",
       "      <td>0.04</td>\n",
       "      <td>0.94</td>\n",
       "      <td>NaN</td>\n",
       "      <td>0.026</td>\n",
       "      <td>44.3</td>\n",
       "      <td>-1.2086</td>\n",
       "      <td>31.7411</td>\n",
       "      <td>399.2</td>\n",
       "      <td>6.80</td>\n",
       "      <td>0.13</td>\n",
       "      <td>25.65</td>\n",
       "      <td>1.34</td>\n",
       "    </tr>\n",
       "    <tr>\n",
       "      <th>3</th>\n",
       "      <td>3</td>\n",
       "      <td>0.04</td>\n",
       "      <td>0.94</td>\n",
       "      <td>NaN</td>\n",
       "      <td>0.026</td>\n",
       "      <td>44.3</td>\n",
       "      <td>-1.2086</td>\n",
       "      <td>31.7411</td>\n",
       "      <td>398.4</td>\n",
       "      <td>5.10</td>\n",
       "      <td>0.12</td>\n",
       "      <td>23.21</td>\n",
       "      <td>1.26</td>\n",
       "    </tr>\n",
       "    <tr>\n",
       "      <th>4</th>\n",
       "      <td>4</td>\n",
       "      <td>0.11</td>\n",
       "      <td>1.73</td>\n",
       "      <td>NaN</td>\n",
       "      <td>0.045</td>\n",
       "      <td>80.7</td>\n",
       "      <td>-1.5536</td>\n",
       "      <td>32.3635</td>\n",
       "      <td>318.8</td>\n",
       "      <td>11.79</td>\n",
       "      <td>0.02</td>\n",
       "      <td>28.68</td>\n",
       "      <td>1.57</td>\n",
       "    </tr>\n",
       "  </tbody>\n",
       "</table>\n",
       "</div>"
      ],
      "text/plain": [
       "   Unnamed: 0  Hg0_pM  HgT_pM  DMHg_pM  MMHg_pM  PRES    TEMP     PSAL   DOXY  \\\n",
       "0           0    0.16    1.39      NaN    0.012  20.2 -0.7891  29.4120  433.4   \n",
       "1           1    0.16    1.39      NaN    0.012  20.2 -0.7891  29.4120  433.4   \n",
       "2           2    0.04    0.94      NaN    0.026  44.3 -1.2086  31.7411  399.2   \n",
       "3           3    0.04    0.94      NaN    0.026  44.3 -1.2086  31.7411  398.4   \n",
       "4           4    0.11    1.73      NaN    0.045  80.7 -1.5536  32.3635  318.8   \n",
       "\n",
       "   NITRAT  NITRIT  SILCAT  PHSPHT  \n",
       "0    0.33    0.00    3.53    0.70  \n",
       "1    0.01    0.00    2.06    0.63  \n",
       "2    6.80    0.13   25.65    1.34  \n",
       "3    5.10    0.12   23.21    1.26  \n",
       "4   11.79    0.02   28.68    1.57  "
      ]
     },
     "execution_count": 2,
     "metadata": {},
     "output_type": "execute_result"
    }
   ],
   "source": [
    "# Import Hg dataset\n",
    "Hg_All = pd.read_csv('../Data/Hg_All.csv')\n",
    "Hg_All.head()"
   ]
  },
  {
   "cell_type": "code",
   "execution_count": 3,
   "id": "db07a460",
   "metadata": {},
   "outputs": [
    {
     "data": {
      "text/plain": [
       "(1443, 6)"
      ]
     },
     "execution_count": 3,
     "metadata": {},
     "output_type": "execute_result"
    }
   ],
   "source": [
    "# Drop unwanted columns\n",
    "Hg_All.drop(columns=['Unnamed: 0','HgT_pM','DMHg_pM','MMHg_pM','NITRIT','SILCAT','PHSPHT'], inplace=True)\n",
    "Hg_All.shape"
   ]
  },
  {
   "cell_type": "code",
   "execution_count": 4,
   "id": "e52bf4be",
   "metadata": {},
   "outputs": [
    {
     "data": {
      "text/plain": [
       "(873, 6)"
      ]
     },
     "execution_count": 4,
     "metadata": {},
     "output_type": "execute_result"
    }
   ],
   "source": [
    "Hg_All = Hg_All.dropna()\n",
    "Hg_All.shape"
   ]
  },
  {
   "cell_type": "code",
   "execution_count": 5,
   "id": "88284aaa",
   "metadata": {},
   "outputs": [],
   "source": [
    "# Split our preprocessed data into our features and target arrays\n",
    "X = Hg_All.drop(['Hg0_pM'], axis=1)\n",
    "y = Hg_All['Hg0_pM']\n",
    "\n",
    "# Split the preprocessed data into a training and testing dataset\n",
    "X_train, X_test, y_train, y_test = train_test_split(X, y, random_state=5)"
   ]
  },
  {
   "cell_type": "code",
   "execution_count": 6,
   "id": "90088c7d",
   "metadata": {},
   "outputs": [],
   "source": [
    "# Create scaler instance\n",
    "X_scaler = skl.preprocessing.StandardScaler()\n",
    "\n",
    "# Fit the scaler\n",
    "X_scaler.fit(X_train)\n",
    "\n",
    "# Scale the data\n",
    "X_train_scaled = X_scaler.transform(X_train)\n",
    "X_test_scaled = X_scaler.transform(X_test)"
   ]
  },
  {
   "cell_type": "code",
   "execution_count": 7,
   "id": "be68256b",
   "metadata": {},
   "outputs": [],
   "source": [
    "# Create a method that creates a new Sequential model with hyperparameter options\n",
    "def create_model(hp):\n",
    "    nn_model = tf.keras.models.Sequential()\n",
    "\n",
    "    # Allow kerastuner to decide which activation function to use in hidden layers\n",
    "    activation = hp.Choice('activation',['relu','tanh','sigmoid'])\n",
    "    \n",
    "    # Allow kerastuner to decide number of neurons in first layer\n",
    "    nn_model.add(tf.keras.layers.Dense(units=hp.Int('first_units',\n",
    "        min_value=1,\n",
    "        max_value=5,\n",
    "        step=1), activation=activation, input_dim=5))\n",
    "\n",
    "    # Allow kerastuner to decide number of hidden layers and neurons in hidden layers\n",
    "    for i in range(hp.Int('num_layers', 1, 6)):\n",
    "        nn_model.add(tf.keras.layers.Dense(units=hp.Int('units_' + str(i),\n",
    "            min_value=1,\n",
    "            max_value=10,\n",
    "            step=2),\n",
    "            activation=activation))\n",
    "    \n",
    "    nn_model.add(tf.keras.layers.Dense(units=1, activation=\"relu\"))\n",
    "\n",
    "    # Compile the model\n",
    "    nn_model.compile(loss=\"binary_crossentropy\", optimizer='adam', metrics=[\"accuracy\"])\n",
    "    \n",
    "    return nn_model"
   ]
  },
  {
   "cell_type": "code",
   "execution_count": 8,
   "id": "31af1863",
   "metadata": {},
   "outputs": [
    {
     "name": "stdout",
     "output_type": "stream",
     "text": [
      "INFO:tensorflow:Reloading Oracle from existing project .\\untitled_project\\oracle.json\n"
     ]
    },
    {
     "name": "stderr",
     "output_type": "stream",
     "text": [
      "C:\\Users\\Katli\\.conda\\envs\\venv\\lib\\site-packages\\ipykernel_launcher.py:2: DeprecationWarning: `import kerastuner` is deprecated, please use `import keras_tuner`.\n",
      "  \n"
     ]
    },
    {
     "name": "stdout",
     "output_type": "stream",
     "text": [
      "INFO:tensorflow:Reloading Tuner from .\\untitled_project\\tuner0.json\n"
     ]
    }
   ],
   "source": [
    "# Import the kerastuner library\n",
    "import kerastuner as kt\n",
    "\n",
    "tuner = kt.Hyperband(\n",
    "    create_model,\n",
    "    objective=\"val_accuracy\",\n",
    "    max_epochs=20,\n",
    "    hyperband_iterations=2)"
   ]
  },
  {
   "cell_type": "code",
   "execution_count": 9,
   "id": "ace90285",
   "metadata": {},
   "outputs": [
    {
     "name": "stdout",
     "output_type": "stream",
     "text": [
      "INFO:tensorflow:Oracle triggered exit\n"
     ]
    }
   ],
   "source": [
    "# Run the kerastuner search for best hyperparameters\n",
    "tuner.search(X_train_scaled,y_train,epochs=20,validation_data=(X_test_scaled,y_test))"
   ]
  },
  {
   "cell_type": "code",
   "execution_count": 10,
   "id": "9653ca87",
   "metadata": {},
   "outputs": [
    {
     "data": {
      "text/plain": [
       "{'activation': 'tanh',\n",
       " 'first_units': 7,\n",
       " 'num_layers': 2,\n",
       " 'units_0': 5,\n",
       " 'units_1': 3,\n",
       " 'units_2': 3,\n",
       " 'units_3': 9,\n",
       " 'units_4': 7,\n",
       " 'units_5': 5,\n",
       " 'tuner/epochs': 7,\n",
       " 'tuner/initial_epoch': 0,\n",
       " 'tuner/bracket': 1,\n",
       " 'tuner/round': 0}"
      ]
     },
     "execution_count": 10,
     "metadata": {},
     "output_type": "execute_result"
    }
   ],
   "source": [
    "# Get best model hyperparameters\n",
    "best_hyper = tuner.get_best_hyperparameters(1)[0]\n",
    "best_hyper.values"
   ]
  },
  {
   "cell_type": "code",
   "execution_count": 11,
   "id": "9a5c54d2",
   "metadata": {},
   "outputs": [
    {
     "name": "stdout",
     "output_type": "stream",
     "text": [
      "7/7 - 0s - loss: 1.5790 - accuracy: 0.1233\n",
      "Loss: 1.5790430307388306, Accuracy: 0.12328767031431198\n"
     ]
    }
   ],
   "source": [
    "# Evaluate best model against full test data\n",
    "best_model = tuner.get_best_models(1)[0]\n",
    "model_loss, model_accuracy = best_model.evaluate(X_test_scaled,y_test,verbose=2)\n",
    "print(f\"Loss: {model_loss}, Accuracy: {model_accuracy}\")"
   ]
  },
  {
   "cell_type": "code",
   "execution_count": null,
   "id": "6c059e03",
   "metadata": {},
   "outputs": [],
   "source": []
  }
 ],
 "metadata": {
  "kernelspec": {
   "display_name": "venv",
   "language": "python",
   "name": "venv"
  },
  "language_info": {
   "codemirror_mode": {
    "name": "ipython",
    "version": 3
   },
   "file_extension": ".py",
   "mimetype": "text/x-python",
   "name": "python",
   "nbconvert_exporter": "python",
   "pygments_lexer": "ipython3",
   "version": "3.6.10"
  }
 },
 "nbformat": 4,
 "nbformat_minor": 5
}
